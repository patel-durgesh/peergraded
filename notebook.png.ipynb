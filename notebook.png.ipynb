{
 "cells": [
  {
   "cell_type": "markdown",
   "id": "e9cff211",
   "metadata": {},
   "source": [
    "# Project"
   ]
  },
  {
   "cell_type": "markdown",
   "id": "b1ef3821",
   "metadata": {},
   "source": [
    "#Python\n",
    "#R\n",
    "#SQL\n",
    "#Java\n",
    "#Julia\n",
    "#Scala\n",
    "#C/C++\n",
    "#JavaScript\n",
    "#Swift\n",
    "#Go\n",
    "#MATLAB\n",
    "#SAS"
   ]
  },
  {
   "cell_type": "markdown",
   "id": "9c3ef1fd",
   "metadata": {},
   "source": [
    "#TensorFlow\n",
    "#NumPy\n",
    "#SciPy \n",
    "#Pandas\n",
    "#Matplotlib \n",
    "#Keras\n",
    "#SciKit-Learn\n",
    "#PyTorch\n",
    "#Scrapy"
   ]
  },
  {
   "cell_type": "markdown",
   "id": "f229fd00",
   "metadata": {},
   "source": [
    "Data science is a field that involves using statistical and computational techniques to extract insights \n",
    "and knowledge from data. It encompasses a wide range of tasks, including data cleaning and preparation, \n",
    "data visualization, statistical modeling, machine learning, and more. Data scientists use these techniques \n",
    "to discover patterns and trends in data, make predictions, and support decision-making. They may work with \n",
    "a variety of data types, including structured data (such as numbers and dates in a spreadsheet) and \n",
    "unstructured data (such as text, images, or audio). Data science is used in a wide range of industries, \n",
    "including finance, healthcare, retail, and more.\n",
    "\n",
    "Data science is a multidisciplinary field that uses statistical and computational methods to extract insights\n",
    "and knowledge from data. It involves a combination of skills and knowledge from various fields such as \n",
    "statistics, computer science, mathematics, and domain expertise."
   ]
  },
  {
   "cell_type": "markdown",
   "id": "351cf496",
   "metadata": {},
   "source": [
    "SAS\n",
    "Apache Spark\n",
    "BigML\n",
    "MATLAB\n",
    "Excel\n",
    "ggplot2\n",
    "Tableau\n",
    "Jupyter\n",
    "Matplotlib"
   ]
  },
  {
   "cell_type": "markdown",
   "id": "9af8fb87",
   "metadata": {},
   "source": [
    "Arithmetic is one of the oldest and elementary branches of mathematics, originating from the Greek word ‘Arithmos’, which means ‘number’. Arithmetic involves the study of numbers, especially the properties of traditional operations, such as:\n",
    "\n",
    "Addition\n",
    "Subtraction\n",
    "Multiplication\n",
    "Division\n",
    "The arithmetic operators based on these operations are ‘+’, ‘-’, ‘×’ and ‘÷’."
   ]
  },
  {
   "cell_type": "code",
   "execution_count": 1,
   "id": "89e55ad6",
   "metadata": {},
   "outputs": [],
   "source": [
    "a = 10\n",
    "b = 20"
   ]
  },
  {
   "cell_type": "code",
   "execution_count": 2,
   "id": "baff0a4e",
   "metadata": {},
   "outputs": [
    {
     "data": {
      "text/plain": [
       "30"
      ]
     },
     "execution_count": 2,
     "metadata": {},
     "output_type": "execute_result"
    }
   ],
   "source": [
    "a + b"
   ]
  },
  {
   "cell_type": "code",
   "execution_count": 3,
   "id": "98bdb34e",
   "metadata": {},
   "outputs": [
    {
     "data": {
      "text/plain": [
       "200"
      ]
     },
     "execution_count": 3,
     "metadata": {},
     "output_type": "execute_result"
    }
   ],
   "source": [
    "a * b"
   ]
  },
  {
   "cell_type": "markdown",
   "id": "bf41c4c7",
   "metadata": {},
   "source": [
    " convert minutes to hours"
   ]
  },
  {
   "cell_type": "code",
   "execution_count": 7,
   "id": "c349a3d5",
   "metadata": {},
   "outputs": [],
   "source": [
    "min = 100\n",
    "hour = min / 60\n",
    "min = min % 60"
   ]
  },
  {
   "cell_type": "code",
   "execution_count": 9,
   "id": "47ac592e",
   "metadata": {},
   "outputs": [
    {
     "data": {
      "text/plain": [
       "1"
      ]
     },
     "execution_count": 9,
     "metadata": {},
     "output_type": "execute_result"
    }
   ],
   "source": [
    "int(hour)"
   ]
  },
  {
   "cell_type": "markdown",
   "id": "733756dd",
   "metadata": {},
   "source": [
    "min"
   ]
  },
  {
   "cell_type": "code",
   "execution_count": 10,
   "id": "42104808",
   "metadata": {},
   "outputs": [
    {
     "data": {
      "text/plain": [
       "40"
      ]
     },
     "execution_count": 10,
     "metadata": {},
     "output_type": "execute_result"
    }
   ],
   "source": [
    "min"
   ]
  },
  {
   "cell_type": "markdown",
   "id": "1b785137",
   "metadata": {},
   "source": [
    "Exercise 2 - Create a markdown cell with the title of the notebook. (1 pt)\n",
    "\n",
    "Exercise 3 - Create a markdown cell for an introduction. (1 pt)\n",
    "\n",
    "Exercise 4 - Create a markdown cell to list data science languages. (3 pts)\n",
    "\n",
    "Exercise 5 - Create a markdown cell to list data science libraries. (3 pts)\n",
    "\n",
    "Exercise 6 - Create a markdown cell with a table of Data Science tools. (3 pts)\n",
    "\n",
    "Exercise 7 - Create a markdown cell introducing arithmetic expression examples. (1 pt)\n",
    "\n",
    "Exercise 8 - Create a code cell to multiply and add numbers. (2 pts)\n",
    "\n",
    "Exercise 9 - Create a code cell to convert minutes to hours. (2 pts)\n",
    "\n",
    "Exercise 10 -Insert a markdown cell to list Objectives. (3 pts)\n",
    "\n",
    "Exercise 11 - Create a markdown cell to indicate the Author’s name. (2 pts)\n",
    "\n",
    "Exercise 12 - Share your notebook through GitHub (3 pts)\n",
    "\n",
    "Exercise 13 - Take a screenshot of the first page of the notebook. (1 pt)"
   ]
  },
  {
   "cell_type": "markdown",
   "id": "34403f57",
   "metadata": {},
   "source": [
    "Autor - Durgesh Kumar Patel"
   ]
  }
 ],
 "metadata": {
  "kernelspec": {
   "display_name": "Python 3 (ipykernel)",
   "language": "python",
   "name": "python3"
  },
  "language_info": {
   "codemirror_mode": {
    "name": "ipython",
    "version": 3
   },
   "file_extension": ".py",
   "mimetype": "text/x-python",
   "name": "python",
   "nbconvert_exporter": "python",
   "pygments_lexer": "ipython3",
   "version": "3.9.12"
  }
 },
 "nbformat": 4,
 "nbformat_minor": 5
}
